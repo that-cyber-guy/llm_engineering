{
 "cells": [
  {
   "cell_type": "code",
   "execution_count": 1,
   "id": "4bd4ee0a-812e-4056-89f7-287caf1b97e2",
   "metadata": {},
   "outputs": [
    {
     "name": "stdout",
     "output_type": "stream",
     "text": [
      "API key found and looks good so far!\n",
      "{0: 'https://google-gruyere.appspot.com/662787643234587727633733504808217804147/', 1: 'https://google-gruyere.appspot.com/662787643234587727633733504808217804147/snippets.gtl', 2: 'https://google-gruyere.appspot.com/662787643234587727633733504808217804147/newsnippet.gtl', 3: 'https://google-gruyere.appspot.com/662787643234587727633733504808217804147/upload.gtl', 4: 'https://google-gruyere.appspot.com/662787643234587727633733504808217804147/editprofile.gtl', 5: 'https://google-gruyere.appspot.com/662787643234587727633733504808217804147/logout', 6: 'https://google-gruyere.appspot.com/662787643234587727633733504808217804147/deletesnippet?index=0', 7: 'https://google-gruyere.appspot.com/662787643234587727633733504808217804147/deletesnippet?index=1', 8: 'https://google-gruyere.appspot.com/662787643234587727633733504808217804147/cheese.png', 9: 'https://google-gruyere.appspot.com/662787643234587727633733504808217804147/feed.gtl?uid=admin', 10: 'https://google-gruyere.appspot.com/662787643234587727633733504808217804147/snippets.gtl?uid=cheddar', 11: 'https://images.google.com/?q=cheddar cheese', 12: 'https://google-gruyere.appspot.com/662787643234587727633733504808217804147/snippets.gtl?uid=brie', 13: 'https://news.google.com/news/search?q=brie', 14: 'https://google-gruyere.appspot.com/662787643234587727633733504808217804147/feed.gtl'}\n"
     ]
    },
    {
     "ename": "APIRemovedInV1",
     "evalue": "\n\nYou tried to access openai.ChatCompletion, but this is no longer supported in openai>=1.0.0 - see the README at https://github.com/openai/openai-python for the API.\n\nYou can run `openai migrate` to automatically upgrade your codebase to use the 1.0.0 interface. \n\nAlternatively, you can pin your installation to the old version, e.g. `pip install openai==0.28`\n\nA detailed migration guide is available here: https://github.com/openai/openai-python/discussions/742\n",
     "output_type": "error",
     "traceback": [
      "\u001b[31m---------------------------------------------------------------------------\u001b[39m",
      "\u001b[31mAPIRemovedInV1\u001b[39m                            Traceback (most recent call last)",
      "\u001b[36mCell\u001b[39m\u001b[36m \u001b[39m\u001b[32mIn[1]\u001b[39m\u001b[32m, line 82\u001b[39m\n\u001b[32m     79\u001b[39m         update_display(Markdown(response), display_id=display_handle.display_id)\n\u001b[32m     81\u001b[39m \u001b[38;5;66;03m# Example usage\u001b[39;00m\n\u001b[32m---> \u001b[39m\u001b[32m82\u001b[39m \u001b[43manalyse_urls\u001b[49m\u001b[43m(\u001b[49m\u001b[43murls_list\u001b[49m\u001b[43m)\u001b[49m\n\u001b[32m     83\u001b[39m \u001b[38;5;66;03m# stream_url(urls_list)  # Uncomment to use streaming\u001b[39;00m\n",
      "\u001b[36mCell\u001b[39m\u001b[36m \u001b[39m\u001b[32mIn[1]\u001b[39m\u001b[32m, line 55\u001b[39m, in \u001b[36manalyse_urls\u001b[39m\u001b[34m(urls_list)\u001b[39m\n\u001b[32m     54\u001b[39m \u001b[38;5;28;01mdef\u001b[39;00m\u001b[38;5;250m \u001b[39m\u001b[34manalyse_urls\u001b[39m(urls_list):\n\u001b[32m---> \u001b[39m\u001b[32m55\u001b[39m     response = \u001b[43mopenai\u001b[49m\u001b[43m.\u001b[49m\u001b[43mChatCompletion\u001b[49m\u001b[43m.\u001b[49m\u001b[43mcreate\u001b[49m\u001b[43m(\u001b[49m\n\u001b[32m     56\u001b[39m \u001b[43m        \u001b[49m\u001b[43mmodel\u001b[49m\u001b[43m=\u001b[49m\u001b[43mmodel\u001b[49m\u001b[43m,\u001b[49m\n\u001b[32m     57\u001b[39m \u001b[43m        \u001b[49m\u001b[43mmessages\u001b[49m\u001b[43m=\u001b[49m\u001b[43m[\u001b[49m\n\u001b[32m     58\u001b[39m \u001b[43m            \u001b[49m\u001b[43m{\u001b[49m\u001b[33;43m\"\u001b[39;49m\u001b[33;43mrole\u001b[39;49m\u001b[33;43m\"\u001b[39;49m\u001b[43m:\u001b[49m\u001b[43m \u001b[49m\u001b[33;43m\"\u001b[39;49m\u001b[33;43msystem\u001b[39;49m\u001b[33;43m\"\u001b[39;49m\u001b[43m,\u001b[49m\u001b[43m \u001b[49m\u001b[33;43m\"\u001b[39;49m\u001b[33;43mcontent\u001b[39;49m\u001b[33;43m\"\u001b[39;49m\u001b[43m:\u001b[49m\u001b[43m \u001b[49m\u001b[43msystem_prompt\u001b[49m\u001b[43m}\u001b[49m\u001b[43m,\u001b[49m\n\u001b[32m     59\u001b[39m \u001b[43m            \u001b[49m\u001b[43m{\u001b[49m\u001b[33;43m\"\u001b[39;49m\u001b[33;43mrole\u001b[39;49m\u001b[33;43m\"\u001b[39;49m\u001b[43m:\u001b[49m\u001b[43m \u001b[49m\u001b[33;43m\"\u001b[39;49m\u001b[33;43muser\u001b[39;49m\u001b[33;43m\"\u001b[39;49m\u001b[43m,\u001b[49m\u001b[43m \u001b[49m\u001b[33;43m\"\u001b[39;49m\u001b[33;43mcontent\u001b[39;49m\u001b[33;43m\"\u001b[39;49m\u001b[43m:\u001b[49m\u001b[43m \u001b[49m\u001b[43mget_url_user_prompt\u001b[49m\u001b[43m(\u001b[49m\u001b[43murls_list\u001b[49m\u001b[43m)\u001b[49m\u001b[43m}\u001b[49m\n\u001b[32m     60\u001b[39m \u001b[43m        \u001b[49m\u001b[43m]\u001b[49m\n\u001b[32m     61\u001b[39m \u001b[43m    \u001b[49m\u001b[43m)\u001b[49m\n\u001b[32m     62\u001b[39m     display(Markdown(response.choices[\u001b[32m0\u001b[39m].message.content))\n",
      "\u001b[36mFile \u001b[39m\u001b[32m/opt/anaconda3/envs/llms/lib/python3.11/site-packages/openai/lib/_old_api.py:39\u001b[39m, in \u001b[36mAPIRemovedInV1Proxy.__call__\u001b[39m\u001b[34m(self, *_args, **_kwargs)\u001b[39m\n\u001b[32m     38\u001b[39m \u001b[38;5;28;01mdef\u001b[39;00m\u001b[38;5;250m \u001b[39m\u001b[34m__call__\u001b[39m(\u001b[38;5;28mself\u001b[39m, *_args: Any, **_kwargs: Any) -> Any:\n\u001b[32m---> \u001b[39m\u001b[32m39\u001b[39m     \u001b[38;5;28;01mraise\u001b[39;00m APIRemovedInV1(symbol=\u001b[38;5;28mself\u001b[39m._symbol)\n",
      "\u001b[31mAPIRemovedInV1\u001b[39m: \n\nYou tried to access openai.ChatCompletion, but this is no longer supported in openai>=1.0.0 - see the README at https://github.com/openai/openai-python for the API.\n\nYou can run `openai migrate` to automatically upgrade your codebase to use the 1.0.0 interface. \n\nAlternatively, you can pin your installation to the old version, e.g. `pip install openai==0.28`\n\nA detailed migration guide is available here: https://github.com/openai/openai-python/discussions/742\n"
     ]
    }
   ],
   "source": [
    "#!/usr/bin/env python\n",
    "# coding: utf-8\n",
    "\n",
    "import os\n",
    "import pandas as pd\n",
    "from dotenv import load_dotenv\n",
    "import openai\n",
    "from IPython.display import Markdown, display, update_display\n",
    "\n",
    "load_dotenv(override=True)\n",
    "api_key = os.getenv('OPENAI_API_KEY')\n",
    "\n",
    "# Check the key\n",
    "if not api_key:\n",
    "    print(\"No API key was found - please head over to the troubleshooting notebook in this folder to identify & fix!\")\n",
    "elif not api_key.startswith(\"sk-\"):\n",
    "    print(\"An API key was found, but it doesn't start with 'sk-'; please check you're using the right key - see troubleshooting notebook\")\n",
    "elif api_key.strip() != api_key:\n",
    "    print(\"An API key was found, but it looks like it might have space or tab characters at the start or end - please remove them - see troubleshooting notebook\")\n",
    "else:\n",
    "    print(\"API key found and looks good so far!\")\n",
    "\n",
    "openai.api_key = api_key\n",
    "model = 'gpt-4o-mini'\n",
    "\n",
    "# CSV file path\n",
    "file_path = 'sitemap.csv'  # Replace with your file path\n",
    "\n",
    "def read_urls_from_csv(file_path, urls_column='URL'):\n",
    "    try:\n",
    "        df = pd.read_csv(file_path)\n",
    "        urls_list = {index: row[urls_column] for index, row in df.iterrows()}\n",
    "        return urls_list\n",
    "    except Exception as e:\n",
    "        print(f\"An error occurred: {e}\")\n",
    "        return None\n",
    "\n",
    "urls_list = read_urls_from_csv(file_path, 'URL')\n",
    "print(urls_list)\n",
    "\n",
    "system_prompt = \"\"\"You are a web application developer and security consultant. \n",
    "Your role is to analyze URLs and determine which URLs might be similar in function. Respond in markdown. Group similar URLs into groups.\"\"\"\n",
    "\n",
    "def get_url_user_prompt(urls_list):\n",
    "    truncated_urls = []\n",
    "    total_length = 0\n",
    "    for url in urls_list.values():\n",
    "        if total_length + len(url) + 1 > 5000:\n",
    "            break\n",
    "        truncated_urls.append(url)\n",
    "        total_length += len(url) + 1\n",
    "    return \"Here is the list of URLs to analyze:\\n\" + \"\\n\".join(truncated_urls)\n",
    "\n",
    "def analyse_urls(urls_list):\n",
    "    response = openai.ChatCompletion.create(\n",
    "        model=model,\n",
    "        messages=[\n",
    "            {\"role\": \"system\", \"content\": system_prompt},\n",
    "            {\"role\": \"user\", \"content\": get_url_user_prompt(urls_list)}\n",
    "        ]\n",
    "    )\n",
    "    display(Markdown(response.choices[0].message.content))\n",
    "\n",
    "def stream_url(urls_list):\n",
    "    stream = openai.ChatCompletion.create(\n",
    "        model=model,\n",
    "        messages=[\n",
    "            {\"role\": \"system\", \"content\": system_prompt},\n",
    "            {\"role\": \"user\", \"content\": get_url_user_prompt(urls_list)}\n",
    "        ],\n",
    "        stream=True\n",
    "    )\n",
    "\n",
    "    response = \"\"\n",
    "    display_handle = display(Markdown(\"\"), display_id=True)\n",
    "    for chunk in stream:\n",
    "        response += chunk.choices[0].delta.get('content', '')\n",
    "        response = response.replace(\"```\", \"\").replace(\"markdown\", \"\")\n",
    "        update_display(Markdown(response), display_id=display_handle.display_id)\n",
    "\n",
    "# Example usage\n",
    "analyse_urls(urls_list)\n",
    "# stream_url(urls_list)  # Uncomment to use streaming"
   ]
  },
  {
   "cell_type": "code",
   "execution_count": null,
   "id": "3ba7c183-404a-4ac1-94ca-d27abccb4a5a",
   "metadata": {},
   "outputs": [],
   "source": []
  }
 ],
 "metadata": {
  "kernelspec": {
   "display_name": "Python 3 (ipykernel)",
   "language": "python",
   "name": "python3"
  },
  "language_info": {
   "codemirror_mode": {
    "name": "ipython",
    "version": 3
   },
   "file_extension": ".py",
   "mimetype": "text/x-python",
   "name": "python",
   "nbconvert_exporter": "python",
   "pygments_lexer": "ipython3",
   "version": "3.11.11"
  }
 },
 "nbformat": 4,
 "nbformat_minor": 5
}
