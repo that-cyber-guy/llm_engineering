{
 "cells": [
  {
   "cell_type": "markdown",
   "id": "d15d8294-3328-4e07-ad16-8a03e9bbfdb9",
   "metadata": {},
   "source": [
    "# Welcome to your first assignment!\n",
    "\n",
    "Instructions are below. Please give this a try, and look in the solutions folder if you get stuck (or feel free to ask me!)"
   ]
  },
  {
   "cell_type": "markdown",
   "id": "ada885d9-4d42-4d9b-97f0-74fbbbfe93a9",
   "metadata": {},
   "source": [
    "<table style=\"margin: 0; text-align: left;\">\n",
    "    <tr>\n",
    "        <td style=\"width: 150px; height: 150px; vertical-align: middle;\">\n",
    "            <img src=\"../resources.jpg\" width=\"150\" height=\"150\" style=\"display: block;\" />\n",
    "        </td>\n",
    "        <td>\n",
    "            <h2 style=\"color:#f71;\">Just before we get to the assignment --</h2>\n",
    "            <span style=\"color:#f71;\">I thought I'd take a second to point you at this page of useful resources for the course. This includes links to all the slides.<br/>\n",
    "            <a href=\"https://edwarddonner.com/2024/11/13/llm-engineering-resources/\">https://edwarddonner.com/2024/11/13/llm-engineering-resources/</a><br/>\n",
    "            Please keep this bookmarked, and I'll continue to add more useful links there over time.\n",
    "            </span>\n",
    "        </td>\n",
    "    </tr>\n",
    "</table>"
   ]
  },
  {
   "cell_type": "code",
   "execution_count": 2,
   "id": "b14f1b82-55fd-4c10-85c0-95a6c5fad16f",
   "metadata": {},
   "outputs": [],
   "source": [
    "# imports\n",
    "\n",
    "import requests\n",
    "from bs4 import BeautifulSoup\n",
    "from IPython.display import Markdown, display"
   ]
  },
  {
   "cell_type": "code",
   "execution_count": 4,
   "id": "dac0a679-599c-441f-9bf2-ddc73d35b940",
   "metadata": {},
   "outputs": [],
   "source": [
    "# Create a messages list using the same format that we used for OpenAI\n",
    "\n",
    "messages = [\n",
    "    {\"role\": \"user\", \"content\": \"Describe some of the business applications of Generative AI\"}\n",
    "]"
   ]
  },
  {
   "cell_type": "code",
   "execution_count": 3,
   "id": "29ddd15d-a3c5-4f4e-a678-873f56162724",
   "metadata": {},
   "outputs": [],
   "source": [
    "# Constants\n",
    "\n",
    "OLLAMA_API = \"http://localhost:11434/api/chat\"\n",
    "HEADERS = {\"Content-Type\": \"application/json\"}\n",
    "MODEL = \"llama3.2\""
   ]
  },
  {
   "cell_type": "code",
   "execution_count": 9,
   "id": "e8adc013-c3cc-4f47-b824-cad151d1d1a6",
   "metadata": {},
   "outputs": [],
   "source": [
    "# A class to represent a Webpage\n",
    "# If you're not familiar with Classes, check out the \"Intermediate Python\" notebook\n",
    "\n",
    "# Some websites need you to use proper headers when fetching them:\n",
    "headers = {\n",
    " \"User-Agent\": \"Mozilla/5.0 (Windows NT 10.0; Win64; x64) AppleWebKit/537.36 (KHTML, like Gecko) Chrome/117.0.0.0 Safari/537.36\"\n",
    "}\n",
    "\n",
    "class Website:\n",
    "\n",
    "    def __init__(self, url):\n",
    "        \"\"\"\n",
    "        Create this Website object from the given url using the BeautifulSoup library\n",
    "        \"\"\"\n",
    "        self.url = url\n",
    "        response = requests.get(url, headers=headers)\n",
    "        soup = BeautifulSoup(response.content, 'html.parser')\n",
    "        self.title = soup.title.string if soup.title else \"No title found\"\n",
    "        for irrelevant in soup.body([\"script\", \"style\", \"img\", \"input\"]):\n",
    "            irrelevant.decompose()\n",
    "        self.text = soup.body.get_text(separator=\"\\n\", strip=True)"
   ]
  },
  {
   "cell_type": "code",
   "execution_count": 12,
   "id": "dd46e490-d7f2-470f-8e7a-789a4cb1be91",
   "metadata": {},
   "outputs": [],
   "source": [
    "# Define our system prompt - you can experiment with this later, changing the last sentence to 'Respond in markdown in Spanish.\"\n",
    "\n",
    "system_prompt = \"You are an assistant that analyzes the contents of a website \\\n",
    "and provides a short summary, ignoring text that might be navigation related. \\\n",
    "Respond in markdown.\""
   ]
  },
  {
   "cell_type": "code",
   "execution_count": 11,
   "id": "966d55db-707c-4574-8198-58968da1e3f4",
   "metadata": {
    "scrolled": true
   },
   "outputs": [
    {
     "name": "stdout",
     "output_type": "stream",
     "text": [
      "Generative AI has numerous business applications across various industries, including:\n",
      "\n",
      "1. **Content Creation**: AI-powered tools can generate high-quality content such as product descriptions, social media posts, and blog articles, reducing the need for human writers and editors.\n",
      "2. **Product Design**: Generative AI can create 3D models, prototypes, and even entire product lines, streamlining the design process and reducing costs.\n",
      "3. **Marketing Automation**: AI-powered chatbots and virtual assistants can automate customer support, lead generation, and sales outreach, improving customer experience and efficiency.\n",
      "4. **Data Analysis**: Generative AI algorithms can analyze large datasets, identify patterns, and generate insights, enabling data-driven decision-making.\n",
      "5. **Predictive Maintenance**: AI-powered predictive maintenance tools can analyze equipment performance data to predict potential failures, reducing downtime and increasing overall efficiency.\n",
      "6. **Financial Modeling**: Generative AI can create complex financial models, forecast revenue, and estimate risks, helping businesses make more informed investment decisions.\n",
      "7. **Supply Chain Optimization**: AI-powered generative tools can optimize supply chain operations, predicting demand, managing inventory, and reducing costs.\n",
      "8. **Customer Service**: AI-powered chatbots and virtual assistants can provide personalized customer support, improving customer satisfaction and loyalty.\n",
      "9. **Image and Video Generation**: Generative AI can create high-quality images and videos for advertising, social media, and other marketing campaigns.\n",
      "10. **Innovation and Idea Generation**: AI-powered generative tools can help businesses generate new ideas, products, and services by analyzing market trends and consumer behavior.\n",
      "\n",
      "Some specific business applications of Generative AI include:\n",
      "\n",
      "1. **Virtual Fashion Designers**: Companies like Versace and Tommy Hilfigher are using Generative AI to create custom fashion designs.\n",
      "2. **AI-Powered Content Marketing Tools**: Tools like WordLift and CoSchedule use Generative AI to generate high-quality content for businesses.\n",
      "3. **Predictive Sales Analytics**: Companies like Salesforce and HubSpot use Generative AI to analyze sales data and predict future revenue.\n",
      "4. **AI-Powered Chatbots**: Companies like IBM and Microsoft are using Generative AI to create intelligent chatbots that can understand and respond to customer queries.\n",
      "\n",
      "These applications demonstrate the vast potential of Generative AI in transforming businesses across various industries, from marketing and design to finance and operations.\n"
     ]
    }
   ],
   "source": [
    "# If this doesn't work for any reason, try the 2 versions in the following cells\n",
    "# And double check the instructions in the 'Recap on installation of Ollama' at the top of this lab\n",
    "# And if none of that works - contact me!\n",
    "\n",
    "response = requests.post(OLLAMA_API, json=payload, headers=HEADERS)\n",
    "print(response.json()['message']['content'])"
   ]
  },
  {
   "cell_type": "code",
   "execution_count": null,
   "id": "5ddb4fc9-d3ad-4105-bacf-00964a84ddc4",
   "metadata": {},
   "outputs": [],
   "source": []
  },
  {
   "cell_type": "code",
   "execution_count": null,
   "id": "460b2579-cac0-45e4-a5f8-bf02d5abb5c9",
   "metadata": {},
   "outputs": [],
   "source": []
  },
  {
   "cell_type": "markdown",
   "id": "a4704e10-f5fb-4c15-a935-f046c06fb13d",
   "metadata": {},
   "source": [
    "## Alternative approach - using OpenAI python library to connect to Ollama"
   ]
  },
  {
   "cell_type": "markdown",
   "id": "1622d9bb-5c68-4d4e-9ca4-b492c751f898",
   "metadata": {},
   "source": [
    "# NOW the exercise for you\n",
    "\n",
    "Take the code from day1 and incorporate it here, to build a website summarizer that uses Llama 3.2 running locally instead of OpenAI; use either of the above approaches."
   ]
  },
  {
   "cell_type": "code",
   "execution_count": 27,
   "id": "bded8ae9-00cd-4313-b274-e0937ba50d6e",
   "metadata": {},
   "outputs": [
    {
     "name": "stdout",
     "output_type": "stream",
     "text": [
      "Home - Edward Donner\n",
      "Home\n",
      "Connect Four\n",
      "Outsmart\n",
      "An arena that pits LLMs against each other in a battle of diplomacy and deviousness\n",
      "About\n",
      "Posts\n",
      "Well, hi there.\n",
      "I’m Ed. I like writing code and experimenting with LLMs, and hopefully you’re here because you do too. I also enjoy DJing (but I’m badly out of practice), amateur electronic music production (\n",
      "very\n",
      "amateur) and losing myself in\n",
      "Hacker News\n",
      ", nodding my head sagely to things I only half understand.\n",
      "I’m the co-founder and CTO of\n",
      "Nebula.io\n",
      ". We’re applying AI to a field where it can make a massive, positive impact: helping people discover their potential and pursue their reason for being. Recruiters use our product today to source, understand, engage and manage talent. I’m previously the founder and CEO of AI startup untapt,\n",
      "acquired in 2021\n",
      ".\n",
      "We work with groundbreaking, proprietary LLMs verticalized for talent, we’ve\n",
      "patented\n",
      "our matching model, and our award-winning platform has happy customers and tons of press coverage.\n",
      "Connect\n",
      "with me for more!\n",
      "January 23, 2025\n",
      "LLM Workshop – Hands-on with Agents – resources\n",
      "December 21, 2024\n",
      "Welcome, SuperDataScientists!\n",
      "November 13, 2024\n",
      "Mastering AI and LLM Engineering – Resources\n",
      "October 16, 2024\n",
      "From Software Engineer to AI Data Scientist – resources\n",
      "Navigation\n",
      "Home\n",
      "Connect Four\n",
      "Outsmart\n",
      "An arena that pits LLMs against each other in a battle of diplomacy and deviousness\n",
      "About\n",
      "Posts\n",
      "Get in touch\n",
      "ed [at] edwarddonner [dot] com\n",
      "www.edwarddonner.com\n",
      "Follow me\n",
      "LinkedIn\n",
      "Twitter\n",
      "Facebook\n",
      "Subscribe to newsletter\n",
      "Type your email…\n",
      "Subscribe\n"
     ]
    }
   ],
   "source": [
    "# Let's try one out. Change the website and add print statements to follow along.\n",
    "\n",
    "ed = Website(\"https://edwarddonner.com\")\n"
   ]
  },
  {
   "cell_type": "code",
   "execution_count": 13,
   "id": "41e31768-955a-4913-b813-0a61cdfd396a",
   "metadata": {},
   "outputs": [],
   "source": [
    "# Define our system prompt - you can experiment with this later, changing the last sentence to 'Respond in markdown in Spanish.\"\n",
    "\n",
    "system_prompt = \"You are an assistant that analyzes the contents of a website \\\n",
    "and provides a short summary, ignoring text that might be navigation related. \\\n",
    "Respond in markdown.\""
   ]
  },
  {
   "cell_type": "code",
   "execution_count": 14,
   "id": "67b700c3-255f-44f3-a6b7-5ef6aa0cf705",
   "metadata": {},
   "outputs": [],
   "source": [
    "# A function that writes a User Prompt that asks for summaries of websites:\n",
    "\n",
    "def user_prompt_for(website):\n",
    "    user_prompt = f\"You are looking at a website titled {website.title}\"\n",
    "    user_prompt += \"\\nThe contents of this website is as follows; \\\n",
    "please provide a short summary of this website in markdown. \\\n",
    "If it includes news or announcements, then summarize these too.\\n\\n\"\n",
    "    user_prompt += website.text\n",
    "    return user_prompt"
   ]
  },
  {
   "cell_type": "markdown",
   "id": "9f9e22da-b891-41f6-9ac9-bd0c0a5f4f44",
   "metadata": {},
   "source": [
    "## Are you confused about why that works?\n",
    "\n",
    "It seems strange, right? We just used OpenAI code to call Ollama?? What's going on?!\n",
    "\n",
    "Here's the scoop:\n",
    "\n",
    "The python class `OpenAI` is simply code written by OpenAI engineers that makes calls over the internet to an endpoint.  \n",
    "\n",
    "When you call `openai.chat.completions.create()`, this python code just makes a web request to the following url: \"https://api.openai.com/v1/chat/completions\"\n",
    "\n",
    "Code like this is known as a \"client library\" - it's just wrapper code that runs on your machine to make web requests. The actual power of GPT is running on OpenAI's cloud behind this API, not on your computer!\n",
    "\n",
    "OpenAI was so popular, that lots of other AI providers provided identical web endpoints, so you could use the same approach.\n",
    "\n",
    "So Ollama has an endpoint running on your local box at http://localhost:11434/v1/chat/completions  \n",
    "And in week 2 we'll discover that lots of other providers do this too, including Gemini and DeepSeek.\n",
    "\n",
    "And then the team at OpenAI had a great idea: they can extend their client library so you can specify a different 'base url', and use their library to call any compatible API.\n",
    "\n",
    "That's it!\n",
    "\n",
    "So when you say: `ollama_via_openai = OpenAI(base_url='http://localhost:11434/v1', api_key='ollama')`  \n",
    "Then this will make the same endpoint calls, but to Ollama instead of OpenAI."
   ]
  },
  {
   "cell_type": "code",
   "execution_count": 16,
   "id": "05919f26-3757-4502-9dd5-29f3d766505f",
   "metadata": {},
   "outputs": [],
   "source": [
    "# See how this function creates exactly the format above\n",
    "\n",
    "def messages_for(website):\n",
    "    return [\n",
    "        {\"role\": \"system\", \"content\": system_prompt},\n",
    "        {\"role\": \"user\", \"content\": user_prompt_for(website)}\n",
    "    ]"
   ]
  },
  {
   "cell_type": "code",
   "execution_count": 17,
   "id": "b47b9153-e518-4718-8a3b-15796be333a4",
   "metadata": {},
   "outputs": [],
   "source": [
    "# And now: call the Ollama function instead of OpenAI\n",
    "\n",
    "def summarize(url):\n",
    "    website = Website(url)\n",
    "    messages = messages_for(website)\n",
    "    response = ollama.chat(model=MODEL, messages=messages)\n",
    "    return response['message']['content']"
   ]
  },
  {
   "cell_type": "code",
   "execution_count": 18,
   "id": "5507a117-fce0-40ad-a1a5-f4c6831119d2",
   "metadata": {},
   "outputs": [
    {
     "data": {
      "text/plain": [
       "\"**Summary of Edward Donner's Website**\\n=====================================\\n\\n### Overview\\n\\nThis website is a personal blog written by Ed, the co-founder and CTO of Nebula.io. The site showcases his passion for writing code, experimenting with Large Language Models (LLMs), and AI.\\n\\n### Recent News and Announcements\\n---------------------------\\n\\n*   **January 23, 2025:** LLM Workshop – Hands-on with Agents – resources\\n*   **December 21, 2024:** Welcome, SuperDataScientists!\\n*   **November 13, 2024:** Mastering AI and LLM Engineering – Resources\\n*   **October 16, 2024:** From Software Engineer to AI Data Scientist – resources\\n\\n### Personal Information\\n\\nEd is the co-founder and CTO of Nebula.io, a company applying AI to help people discover their potential. He has also founded and CEO'd an AI startup that was acquired in 2021.\\n\\n### Contact Information\\n\\n*   Email: [ed at] edwarddonner [dot] com\\n*   Website: www.edwarddonner.com\\n*   Social Media:\\n    *   LinkedIn\\n    *   Twitter\\n    *   Facebook\""
      ]
     },
     "execution_count": 18,
     "metadata": {},
     "output_type": "execute_result"
    }
   ],
   "source": [
    "summarize(\"https://edwarddonner.com\")"
   ]
  },
  {
   "cell_type": "code",
   "execution_count": 19,
   "id": "663f9dd2-1cb9-4637-a71f-aca962ee10bf",
   "metadata": {},
   "outputs": [],
   "source": [
    "# A function to display this nicely in the Jupyter output, using markdown\n",
    "\n",
    "def display_summary(url):\n",
    "    summary = summarize(url)\n",
    "    display(Markdown(summary))"
   ]
  },
  {
   "cell_type": "code",
   "execution_count": 20,
   "id": "73058828-c880-420c-ae29-705d31ce84c5",
   "metadata": {},
   "outputs": [
    {
     "data": {
      "text/markdown": [
       "# Website Summary\n",
       "### **Home**\n",
       "The website is a personal blog of Edward Donner, the co-founder and CTO of Nebula.io. The content discusses his interests in writing code, LLMs, DJing, and amateur electronic music production.\n",
       "\n",
       "### **News/Announcements**\n",
       "\n",
       "* **LLM Workshop – Hands-on with Agents**: A workshop scheduled for January 23, 2025.\n",
       "* **Welcome, SuperDataScientists!**: An announcement posted on November 13, 2024.\n",
       "* **Mastering AI and LLM Engineering – Resources**: Resources available for mastering AI and LLM engineering.\n",
       "* **From Software Engineer to AI Data Scientist – resources**: Additional resources for transitioning from software engineer to AI data scientist.\n",
       "\n",
       "### **Other**\n",
       "\n",
       "The website is a personal blog with a mix of personal thoughts, professional updates, and industry-related news. It seems to be a platform for Edward Donner to share his experiences and insights in the field of LLMs and AI."
      ],
      "text/plain": [
       "<IPython.core.display.Markdown object>"
      ]
     },
     "metadata": {},
     "output_type": "display_data"
    }
   ],
   "source": [
    "display_summary(\"https://edwarddonner.com\")"
   ]
  },
  {
   "cell_type": "code",
   "execution_count": 21,
   "id": "773fc750-3ff7-4ae6-95d6-ffc79c86be5c",
   "metadata": {},
   "outputs": [
    {
     "data": {
      "text/markdown": [
       "OpenAI, the company behind the popular chatbot ChatGPT, has submitted a response to the White House's call for public input on its proposed action plan for artificial intelligence (AI) development and deployment.\n",
       "\n",
       "The plan aims to promote the responsible use of AI, ensure that it benefits society as a whole, and prevent any potential negative consequences. OpenAI is proposing several key measures to achieve these goals, including:\n",
       "\n",
       "1. **Fair use defenses**: Allowing developers to use large language models like ChatGPT for research, education, and other purposes without infringing on copyright or violating data-mining exceptions.\n",
       "2. **Data-mining exceptions**: Permitting the use of AI training data in certain circumstances, such as when it is necessary for research or development.\n",
       "3. **AI Economic Zones**: Creating designated areas for the development and deployment of AI infrastructure, including solar arrays, wind farms, and nuclear reactors.\n",
       "4. **Streamlined permitting processes**: Reducing bureaucratic hurdles for developers seeking to build AI-powered projects, including easing accreditation processes and shortening testing authorities.\n",
       "5. **Federal agency adoption**: Encouraging federal agencies to adopt AI tools and technologies, and removing barriers to their use.\n",
       "\n",
       "OpenAI is also proposing the creation of \"AI Growth Zones\" - designated areas where companies can innovate and develop new AI-powered products and services without worrying about regulatory hurdles.\n",
       "\n",
       "Google has also responded to the White House's call for public input, arguing that fair use defenses and data-mining exceptions are necessary to allow developers to work with large language models like ChatGPT.\n",
       "\n",
       "The move is seen as an effort by OpenAI to shape the future of AI development and deployment in the United States, and to ensure that it benefits society as a whole."
      ],
      "text/plain": [
       "<IPython.core.display.Markdown object>"
      ]
     },
     "metadata": {},
     "output_type": "display_data"
    }
   ],
   "source": [
    "display_summary(\"https://www.theregister.com/2025/03/13/openai_data_copyright/\")"
   ]
  },
  {
   "cell_type": "code",
   "execution_count": null,
   "id": "0c97d7e7-d067-492f-a3bb-9d334605deca",
   "metadata": {},
   "outputs": [],
   "source": []
  }
 ],
 "metadata": {
  "kernelspec": {
   "display_name": "Python 3 (ipykernel)",
   "language": "python",
   "name": "python3"
  },
  "language_info": {
   "codemirror_mode": {
    "name": "ipython",
    "version": 3
   },
   "file_extension": ".py",
   "mimetype": "text/x-python",
   "name": "python",
   "nbconvert_exporter": "python",
   "pygments_lexer": "ipython3",
   "version": "3.11.12"
  }
 },
 "nbformat": 4,
 "nbformat_minor": 5
}
