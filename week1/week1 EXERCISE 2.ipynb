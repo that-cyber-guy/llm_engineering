{
 "cells": [
  {
   "cell_type": "markdown",
   "id": "fe12c203-e6a6-452c-a655-afb8a03a4ff5",
   "metadata": {},
   "source": [
    "# End of week 1 exercise\n",
    "\n",
    "To demonstrate your familiarity with OpenAI API, and also Ollama, build a tool that takes a technical question,  \n",
    "and responds with an explanation. This is a tool that you will be able to use yourself during the course!"
   ]
  },
  {
   "cell_type": "code",
   "execution_count": 10,
   "id": "13990026-1761-4a10-a5bd-b7d5beaeee50",
   "metadata": {},
   "outputs": [
    {
     "name": "stdout",
     "output_type": "stream",
     "text": [
      "Requirement already satisfied: pandas in /opt/anaconda3/envs/llms/lib/python3.11/site-packages (2.2.3)\n",
      "Requirement already satisfied: numpy>=1.23.2 in /opt/anaconda3/envs/llms/lib/python3.11/site-packages (from pandas) (1.26.4)\n",
      "Requirement already satisfied: python-dateutil>=2.8.2 in /opt/anaconda3/envs/llms/lib/python3.11/site-packages (from pandas) (2.9.0.post0)\n",
      "Requirement already satisfied: pytz>=2020.1 in /opt/anaconda3/envs/llms/lib/python3.11/site-packages (from pandas) (2024.1)\n",
      "Requirement already satisfied: tzdata>=2022.7 in /opt/anaconda3/envs/llms/lib/python3.11/site-packages (from pandas) (2025.1)\n",
      "Requirement already satisfied: six>=1.5 in /opt/anaconda3/envs/llms/lib/python3.11/site-packages (from python-dateutil>=2.8.2->pandas) (1.17.0)\n",
      "Note: you may need to restart the kernel to use updated packages.\n"
     ]
    }
   ],
   "source": [
    "pip install pandas"
   ]
  },
  {
   "cell_type": "code",
   "execution_count": 46,
   "id": "c1070317-3ed9-4659-abe3-828943230e03",
   "metadata": {},
   "outputs": [],
   "source": [
    "import os\n",
    "import pandas as pd\n",
    "from dotenv import load_dotenv\n",
    "from openai import OpenAI\n",
    "from IPython.display import Markdown, display, update_display"
   ]
  },
  {
   "cell_type": "code",
   "execution_count": 47,
   "id": "4a456906-915a-4bfd-bb9d-57e505c5093f",
   "metadata": {},
   "outputs": [
    {
     "name": "stdout",
     "output_type": "stream",
     "text": [
      "API key found and looks good so far!\n"
     ]
    }
   ],
   "source": [
    "load_dotenv(override=True)\n",
    "api_key = os.getenv('OPENAI_API_KEY')\n",
    "\n",
    "# Check the key\n",
    "\n",
    "if not api_key:\n",
    "    print(\"No API key was found - please head over to the troubleshooting notebook in this folder to identify & fix!\")\n",
    "elif not api_key.startswith(\"sk-proj-\"):\n",
    "    print(\"An API key was found, but it doesn't start sk-proj-; please check you're using the right key - see troubleshooting notebook\")\n",
    "elif api_key.strip() != api_key:\n",
    "    print(\"An API key was found, but it looks like it might have space or tab characters at the start or end - please remove them - see troubleshooting notebook\")\n",
    "else:\n",
    "    print(\"API key found and looks good so far!\")\n",
    "\n",
    "model = 'gpt-4o-mini'\n",
    "# openai.api_key = api_key\n",
    "\n",
    "# CSV file path\n",
    "file_path = 'sitemap.csv'  # Replace with your file path"
   ]
  },
  {
   "cell_type": "code",
   "execution_count": 48,
   "id": "a8d7923c-5f28-4c30-8556-342d7c8497c1",
   "metadata": {},
   "outputs": [
    {
     "name": "stdout",
     "output_type": "stream",
     "text": [
      "{0: 'https://google-gruyere.appspot.com/662787643234587727633733504808217804147/', 1: 'https://google-gruyere.appspot.com/662787643234587727633733504808217804147/snippets.gtl', 2: 'https://google-gruyere.appspot.com/662787643234587727633733504808217804147/newsnippet.gtl', 3: 'https://google-gruyere.appspot.com/662787643234587727633733504808217804147/upload.gtl', 4: 'https://google-gruyere.appspot.com/662787643234587727633733504808217804147/editprofile.gtl', 5: 'https://google-gruyere.appspot.com/662787643234587727633733504808217804147/logout', 6: 'https://google-gruyere.appspot.com/662787643234587727633733504808217804147/deletesnippet?index=0', 7: 'https://google-gruyere.appspot.com/662787643234587727633733504808217804147/deletesnippet?index=1', 8: 'https://google-gruyere.appspot.com/662787643234587727633733504808217804147/cheese.png', 9: 'https://google-gruyere.appspot.com/662787643234587727633733504808217804147/feed.gtl?uid=admin', 10: 'https://google-gruyere.appspot.com/662787643234587727633733504808217804147/snippets.gtl?uid=cheddar', 11: 'https://images.google.com/?q=cheddar cheese', 12: 'https://google-gruyere.appspot.com/662787643234587727633733504808217804147/snippets.gtl?uid=brie', 13: 'https://news.google.com/news/search?q=brie', 14: 'https://google-gruyere.appspot.com/662787643234587727633733504808217804147/feed.gtl'}\n"
     ]
    }
   ],
   "source": [
    "def read_urls_from_csv(file_path, urls_column='URL'):\n",
    "    \"\"\"\n",
    "    Reads URLs from a CSV file and returns them as a dictionary.\n",
    "\n",
    "    :param file_path: Path to the CSV file.\n",
    "    :param urls_column: The column name containing the URLs.\n",
    "    :return: A dictionary with row indices as keys and URLs as values.\n",
    "    \"\"\"\n",
    "    try:\n",
    "        # Load the CSV file\n",
    "        df = pd.read_csv(file_path)\n",
    "\n",
    "        # Create dictionary from specified column\n",
    "        urls_list = {index: row[urls_column] for index, row in df.iterrows()}\n",
    "\n",
    "        return urls_dict\n",
    "\n",
    "    except Exception as e:\n",
    "        print(f\"An error occurred: {e}\")\n",
    "        return None\n",
    "\n",
    "# Example usage\n",
    "urls_list = read_urls_from_csv(file_path, urls_column='URL')\n",
    "print(urls_list)"
   ]
  },
  {
   "cell_type": "code",
   "execution_count": 43,
   "id": "54d86a9a-feb5-4f0b-bcc7-6ca8c1ba0c31",
   "metadata": {},
   "outputs": [
    {
     "name": "stdout",
     "output_type": "stream",
     "text": [
      "Object `stream_url(urls_list)  # Uncomment to use streaming` not found.\n"
     ]
    }
   ],
   "source": [
    "# prompts\n",
    "\n",
    "system_prompt = \"\"\"You are a web application developer and security consultant. \n",
    "Your role is to analyze URLs and determine which URLs might be similar in function. Respond in markdown. Group similar URLs into groups.\"\"\"\n",
    "\n",
    "def get_url_user_prompt(urls_list):\n",
    "    user_prompt = \"Here is the list of URLs to analyze:\\n\" + \"\\n\".join(urls_list)\n",
    "    truncated_urls = []\n",
    "    total_length = 0\n",
    "    for url in urls_list:\n",
    "        if total_length + len(url) + 1 > 5000:  # +1 accounts for the newline character\n",
    "            break\n",
    "        truncated_urls.append(url)\n",
    "        total_length += len(url) + 1\n",
    "    return \"Here is the list of URLs to analyze:\\n\" + \"\\n\".join(truncated_urls)\n",
    "\n",
    "def analyse_urls(urls_list):\n",
    "    \"\"\"\n",
    "    Analyzes a list of URLs by sending them to the OpenAI API for grouping and analysis.\n",
    "\n",
    "    Parameters:\n",
    "    urls_list (list): A list of URLs to be analyzed.\n",
    "\n",
    "    Returns:\n",
    "    None: The function displays the analysis result in Markdown format.\n",
    "    \"\"\"\n",
    "    response = openai.ChatCompletion.create(\n",
    "        model=model,\n",
    "        messages=[\n",
    "            {\"role\": \"system\", \"content\": system_prompt},\n",
    "            {\"role\": \"user\", \"content\": get_url_user_prompt(urls_list)}\n",
    "        ]\n",
    "    )\n",
    "    display(Markdown(response.choices[0].message.content))\n",
    "\n",
    "def stream_url(urls_list):\n",
    "    stream = openai.ChatCompletion.create(\n",
    "        model=model,\n",
    "        messages=[\n",
    "            {\"role\": \"system\", \"content\": system_prompt},\n",
    "            {\"role\": \"user\", \"content\": get_url_user_prompt(urls_list)}\n",
    "        ],\n",
    "        stream=True\n",
    "    )\n",
    "    \n",
    "    response = \"\"\n",
    "    display_handle = display(Markdown(\"\"), display_id=True)\n",
    "    for chunk in stream:\n",
    "        response += chunk.choices[0].delta.get('content', '')\n",
    "        response = response.replace(\"```\", \"\").replace(\"markdown\", \"\")\n",
    "        update_display(Markdown(response), display_id=display_handle.display_id)\n",
    "\n",
    "urls_list = read_urls_from_csv(file_path, 'URL')\n",
    "# analyse_urls(urls_list)\n",
    "?stream_url(urls_list)  # Uncomment to use streaming"
   ]
  },
  {
   "cell_type": "code",
   "execution_count": 44,
   "id": "3f0d0137-52b0-47a8-81a8-11a90a010798",
   "metadata": {},
   "outputs": [],
   "source": [
    "# here is the question; type over this to ask something new\n",
    "\n",
    "def analyse_urls(url):\n",
    "    response = openai.chat.completions.create(\n",
    "        model= model,\n",
    "        url=urls_list,\n",
    "        messages=[\n",
    "            {\"role\": \"system\", \"content\": system_prompt},\n",
    "            {\"role\": \"user\", \"content\": get_url_user_prompt(read_urls_from_csv)}\n",
    "          ],\n",
    "    )\n",
    "    result = response.choices[0].message.content\n",
    "    display(Markdown(result))\n",
    "\n",
    "# question = \"\"\"\n",
    "# Please explain what this code does and why:\n",
    "# yield from {book.get(\"author\") for book in books if book.get(\"author\")}\n",
    "# \"\"\""
   ]
  },
  {
   "cell_type": "raw",
   "id": "0b5263ce-57b0-4875-a187-3eb1cf8cd4ab",
   "metadata": {},
   "source": [
    "analyse_urls(urls_list)"
   ]
  },
  {
   "cell_type": "code",
   "execution_count": 45,
   "id": "60ce7000-a4a5-4cce-a261-e75ef45063b4",
   "metadata": {},
   "outputs": [],
   "source": [
    "# Get gpt-4o-mini to answer, with streaming\n",
    "# return(messages)\n",
    "\n",
    "\n",
    "\n",
    "def stream_url(url):\n",
    "    stream = openai.chat.completions.create(\n",
    "        model=model,\n",
    "        url=urls_list,\n",
    "        messages=[\n",
    "            {\"role\": \"system\", \"content\": system_prompt},\n",
    "            {\"role\": \"user\", \"content\": get_url_user_prompt(read_urls_from_csv)}\n",
    "          ],\n",
    "        stream=True\n",
    "    )\n",
    "    \n",
    "    response = \"\"\n",
    "    display_handle = display(Markdown(\"\"), display_id=True)\n",
    "    for chunk in stream:\n",
    "        response += chunk.choices[0].delta.content or ''\n",
    "        response = response.replace(\"```\",\"\").replace(\"markdown\", \"\")\n",
    "        update_display(Markdown(response), display_id=display_handle.display_id)\n",
    "\n",
    "        retun(read_urls_from_csv)"
   ]
  },
  {
   "cell_type": "code",
   "execution_count": 34,
   "id": "c3d39912-5e17-4f23-b637-e3268b81db3e",
   "metadata": {},
   "outputs": [
    {
     "ename": "NameError",
     "evalue": "name 'openai' is not defined",
     "output_type": "error",
     "traceback": [
      "\u001b[31m---------------------------------------------------------------------------\u001b[39m",
      "\u001b[31mNameError\u001b[39m                                 Traceback (most recent call last)",
      "\u001b[36mCell\u001b[39m\u001b[36m \u001b[39m\u001b[32mIn[34]\u001b[39m\u001b[32m, line 1\u001b[39m\n\u001b[32m----> \u001b[39m\u001b[32m1\u001b[39m \u001b[43mstream_url\u001b[49m\u001b[43m(\u001b[49m\u001b[43mread_urls_from_csv\u001b[49m\u001b[43m)\u001b[49m\n",
      "\u001b[36mCell\u001b[39m\u001b[36m \u001b[39m\u001b[32mIn[33]\u001b[39m\u001b[32m, line 7\u001b[39m, in \u001b[36mstream_url\u001b[39m\u001b[34m(url)\u001b[39m\n\u001b[32m      6\u001b[39m \u001b[38;5;28;01mdef\u001b[39;00m\u001b[38;5;250m \u001b[39m\u001b[34mstream_url\u001b[39m(url):\n\u001b[32m----> \u001b[39m\u001b[32m7\u001b[39m     stream = \u001b[43mopenai\u001b[49m.chat.completions.create(\n\u001b[32m      8\u001b[39m         model=model,\n\u001b[32m      9\u001b[39m         url=read_urls_from_csv,\n\u001b[32m     10\u001b[39m         messages=[\n\u001b[32m     11\u001b[39m             {\u001b[33m\"\u001b[39m\u001b[33mrole\u001b[39m\u001b[33m\"\u001b[39m: \u001b[33m\"\u001b[39m\u001b[33msystem\u001b[39m\u001b[33m\"\u001b[39m, \u001b[33m\"\u001b[39m\u001b[33mcontent\u001b[39m\u001b[33m\"\u001b[39m: system_prompt},\n\u001b[32m     12\u001b[39m             {\u001b[33m\"\u001b[39m\u001b[33mrole\u001b[39m\u001b[33m\"\u001b[39m: \u001b[33m\"\u001b[39m\u001b[33muser\u001b[39m\u001b[33m\"\u001b[39m, \u001b[33m\"\u001b[39m\u001b[33mcontent\u001b[39m\u001b[33m\"\u001b[39m: get_url_user_prompt(read_urls_from_csv)}\n\u001b[32m     13\u001b[39m           ],\n\u001b[32m     14\u001b[39m         stream=\u001b[38;5;28;01mTrue\u001b[39;00m\n\u001b[32m     15\u001b[39m     )\n\u001b[32m     17\u001b[39m     response = \u001b[33m\"\u001b[39m\u001b[33m\"\u001b[39m\n\u001b[32m     18\u001b[39m     display_handle = display(Markdown(\u001b[33m\"\u001b[39m\u001b[33m\"\u001b[39m), display_id=\u001b[38;5;28;01mTrue\u001b[39;00m)\n",
      "\u001b[31mNameError\u001b[39m: name 'openai' is not defined"
     ]
    }
   ],
   "source": [
    "stream_url(read_urls_from_csv)"
   ]
  },
  {
   "cell_type": "code",
   "execution_count": null,
   "id": "8f7c8ea8-4082-4ad0-8751-3301adcf6538",
   "metadata": {},
   "outputs": [],
   "source": [
    "# Get Llama 3.2 to answer"
   ]
  }
 ],
 "metadata": {
  "kernelspec": {
   "display_name": "Python 3 (ipykernel)",
   "language": "python",
   "name": "python3"
  },
  "language_info": {
   "codemirror_mode": {
    "name": "ipython",
    "version": 3
   },
   "file_extension": ".py",
   "mimetype": "text/x-python",
   "name": "python",
   "nbconvert_exporter": "python",
   "pygments_lexer": "ipython3",
   "version": "3.11.11"
  }
 },
 "nbformat": 4,
 "nbformat_minor": 5
}
