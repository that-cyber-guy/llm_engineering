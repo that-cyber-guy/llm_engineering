{
 "cells": [
  {
   "cell_type": "markdown",
   "id": "fe12c203-e6a6-452c-a655-afb8a03a4ff5",
   "metadata": {},
   "source": [
    "# End of week 1 exercise\n",
    "\n",
    "To demonstrate your familiarity with OpenAI API, and also Ollama, build a tool that takes a technical question,  \n",
    "and responds with an explanation. This is a tool that you will be able to use yourself during the course!"
   ]
  },
  {
   "cell_type": "code",
   "execution_count": 3,
   "id": "c1070317-3ed9-4659-abe3-828943230e03",
   "metadata": {},
   "outputs": [],
   "source": [
    "import os\n",
    "import pandas as pd\n",
    "from dotenv import load_dotenv\n",
    "from openai import OpenAI\n",
    "from IPython.display import Markdown, display, update_display"
   ]
  },
  {
   "cell_type": "markdown",
   "id": "4a8ffeac-e334-43d6-98a2-a83ba729e5cb",
   "metadata": {},
   "source": [
    "Load Invironment variables"
   ]
  },
  {
   "cell_type": "code",
   "execution_count": 4,
   "id": "4a456906-915a-4bfd-bb9d-57e505c5093f",
   "metadata": {},
   "outputs": [
    {
     "name": "stdout",
     "output_type": "stream",
     "text": [
      "API key found and looks good so far!\n"
     ]
    }
   ],
   "source": [
    "load_dotenv(override=True)\n",
    "api_key = os.getenv('OPENAI_API_KEY')\n",
    "\n",
    "# Check the API key\n",
    "if not api_key:\n",
    "    print(\"No API key was found - please head over to the troubleshooting notebook in this folder to identify & fix!\")\n",
    "elif not api_key.startswith(\"sk-\"):\n",
    "    print(\"An API key was found, but it doesn't start with 'sk-'; please check you're using the right key - see troubleshooting notebook\")\n",
    "elif api_key.strip() != api_key:\n",
    "    print(\"An API key was found, but it looks like it might have space or tab characters at the start or end - please remove them - see troubleshooting notebook\")\n",
    "else:\n",
    "    print(\"API key found and looks good so far!\")\n",
    "\n",
    "client = OpenAI(api_key=api_key)\n",
    "model = 'gpt-4'"
   ]
  },
  {
   "cell_type": "markdown",
   "id": "cd69f967-a345-4a87-b49a-f91fe8600f32",
   "metadata": {},
   "source": [
    "## Read URLs from CSV\n",
    "\n",
    "Define a function to read URLs from a CSV file."
   ]
  },
  {
   "cell_type": "code",
   "execution_count": 5,
   "id": "a8d7923c-5f28-4c30-8556-342d7c8497c1",
   "metadata": {},
   "outputs": [
    {
     "name": "stdout",
     "output_type": "stream",
     "text": [
      "{0: 'https://google-gruyere.appspot.com/662787643234587727633733504808217804147/', 1: 'https://google-gruyere.appspot.com/662787643234587727633733504808217804147/snippets.gtl', 2: 'https://google-gruyere.appspot.com/662787643234587727633733504808217804147/newsnippet.gtl', 3: 'https://google-gruyere.appspot.com/662787643234587727633733504808217804147/upload.gtl', 4: 'https://google-gruyere.appspot.com/662787643234587727633733504808217804147/editprofile.gtl', 5: 'https://google-gruyere.appspot.com/662787643234587727633733504808217804147/logout', 6: 'https://google-gruyere.appspot.com/662787643234587727633733504808217804147/deletesnippet?index=0', 7: 'https://google-gruyere.appspot.com/662787643234587727633733504808217804147/deletesnippet?index=1', 8: 'https://google-gruyere.appspot.com/662787643234587727633733504808217804147/cheese.png', 9: 'https://google-gruyere.appspot.com/662787643234587727633733504808217804147/feed.gtl?uid=admin', 10: 'https://google-gruyere.appspot.com/662787643234587727633733504808217804147/snippets.gtl?uid=cheddar', 11: 'https://images.google.com/?q=cheddar cheese', 12: 'https://google-gruyere.appspot.com/662787643234587727633733504808217804147/snippets.gtl?uid=brie', 13: 'https://news.google.com/news/search?q=brie', 14: 'https://google-gruyere.appspot.com/662787643234587727633733504808217804147/feed.gtl'}\n"
     ]
    }
   ],
   "source": [
    "file_path = 'sitemap.csv'  # Replace with your file path\n",
    "\n",
    "def read_urls_from_csv(file_path, urls_column='URL'):\n",
    "    try:\n",
    "        df = pd.read_csv(file_path)\n",
    "        urls_list = {index: row[urls_column] for index, row in df.iterrows()}\n",
    "        return urls_list\n",
    "    except Exception as e:\n",
    "        print(f\"An error occurred: {e}\")\n",
    "        return None\n",
    "\n",
    "urls_list = read_urls_from_csv(file_path, 'URL')\n",
    "print(urls_list)"
   ]
  },
  {
   "cell_type": "markdown",
   "id": "ce03fe81-ad1a-42d7-b053-a58fa75a2094",
   "metadata": {},
   "source": [
    "## Define Prompts and Functions\n",
    "\n",
    "Define the system prompt and functions to analyze and stream URLs."
   ]
  },
  {
   "cell_type": "code",
   "execution_count": 6,
   "id": "54d86a9a-feb5-4f0b-bcc7-6ca8c1ba0c31",
   "metadata": {},
   "outputs": [],
   "source": [
    "system_prompt = \"\"\"You are a web application developer and security consultant. \n",
    "Your role is to analyze URLs and determine which URLs might be similar in function. Respond in markdown. Group similar URLs into groups.\"\"\"\n",
    "\n",
    "def get_url_user_prompt(urls_list):\n",
    "    truncated_urls = []\n",
    "    total_length = 0\n",
    "    for url in urls_list.values():\n",
    "        if total_length + len(url) + 1 > 5000:\n",
    "            break\n",
    "        truncated_urls.append(url)\n",
    "        total_length += len(url) + 1\n",
    "    return \"Here is the list of URLs to analyze:\\n\" + \"\\n\".join(truncated_urls)\n",
    "\n",
    "def analyse_urls(urls_list):\n",
    "    response = client.chat.completions.create(\n",
    "        model=model,\n",
    "        messages=[\n",
    "            {\"role\": \"system\", \"content\": system_prompt},\n",
    "            {\"role\": \"user\", \"content\": get_url_user_prompt(urls_list)}\n",
    "        ]\n",
    "    )\n",
    "    display(Markdown(response.choices[0].message.content))\n",
    "\n",
    "def stream_url(urls_list):\n",
    "    stream = client.chat.completions.create(\n",
    "        model=model,\n",
    "        messages=[\n",
    "            {\"role\": \"system\", \"content\": system_prompt},\n",
    "            {\"role\": \"user\", \"content\": get_url_user_prompt(urls_list)}\n",
    "        ],\n",
    "        stream=True\n",
    "    )\n",
    "\n",
    "    response = \"\"\n",
    "    display_handle = display(Markdown(\"\"), display_id=True)\n",
    "    for chunk in stream:\n",
    "        if chunk.choices[0].delta.content is not None:\n",
    "            response += chunk.choices[0].delta.content\n",
    "            response = response.replace(\"```\", \"\").replace(\"markdown\", \"\")\n",
    "            update_display(Markdown(response), display_id=display_handle.display_id)\n"
   ]
  },
  {
   "cell_type": "code",
   "execution_count": 7,
   "id": "68e02fc6-eb4f-4c3e-9b4d-34b2dae38dce",
   "metadata": {},
   "outputs": [
    {
     "data": {
      "text/markdown": [
       "Looking at the URLs and analyzing their functionality, we can organize them into the following groups:\n",
       "\n",
       "**Group 1: Base URLs**\n",
       "These URLs represent the landing/home pages for unique users identified by a unique long string number. They seem to serve the same base function.\n",
       "* https://google-gruyere.appspot.com/662787643234587727633733504808217804147/\n",
       "\n",
       "**Group 2: Snippet URLs**\n",
       "These URLs all relate to \"snippets\". They might be involved in creating, viewing, and deleting snippets.\n",
       "* https://google-gruyere.appspot.com/662787643234587727633733504808217804147/snippets.gtl\n",
       "* https://google-gruyere.appspot.com/662787643234587727633733504808217804147/newsnippet.gtl\n",
       "* https://google-gruyere.appspot.com/662787643234587727633733504808217804147/deletesnippet?index=0\n",
       "* https://google-gruyere.appspot.com/662787643234587727633733504808217804147/deletesnippet?index=1\n",
       "* https://google-gruyere.appspot.com/662787643234587727633733504808217804147/snippets.gtl?uid=cheddar\n",
       "* https://google-gruyere.appspot.com/662787643234587727633733504808217804147/snippets.gtl?uid=brie\n",
       "\n",
       "**Group 3: User Profile URLs**\n",
       "These URLs relate to user interact actions like uploading, editing profile and logout functions.\n",
       "* https://google-gruyere.appspot.com/662787643234587727633733504808217804147/upload.gtl\n",
       "* https://google-gruyere.appspot.com/662787643234587727633733504808217804147/editprofile.gtl\n",
       "* https://google-gruyere.appspot.com/662787643234587727633733504808217804147/logout\n",
       "\n",
       "**Group 4: Feed URLs**\n",
       "These URLs, identified by the keyword 'feed', are likely related to generating feeds for individual users.\n",
       "* https://google-gruyere.appspot.com/662787643234587727633733504808217804147/feed.gtl?uid=admin\n",
       "* https://google-gruyere.appspot.com/662787643234587727633733504808217804147/feed.gtl\n",
       "\n",
       "**Group 5: Media URLs**\n",
       "This URL has a filetype .png in the end, indicating that it's likely for serving media files.\n",
       "* https://google-gruyere.appspot.com/662787643234587727633733504808217804147/cheese.png\n",
       "\n",
       "**Group 6: Google Images and News URLs**\n",
       "These URLs are for searching specific results on Google Images and Google News.\n",
       "* https://images.google.com/?q=cheddar cheese\n",
       "* https://news.google.com/news/search?q=brie"
      ],
      "text/plain": [
       "<IPython.core.display.Markdown object>"
      ]
     },
     "metadata": {},
     "output_type": "display_data"
    }
   ],
   "source": [
    "analyse_urls(urls_list)"
   ]
  },
  {
   "cell_type": "markdown",
   "id": "3a49de50-a817-4243-9e48-63923a9ceda9",
   "metadata": {},
   "source": [
    "## Example Usage\n",
    "\n",
    "Analyze the URLs using the defined functions."
   ]
  },
  {
   "cell_type": "raw",
   "id": "0b5263ce-57b0-4875-a187-3eb1cf8cd4ab",
   "metadata": {},
   "source": [
    "stream_url(urls_list)  # Uncomment to use streaming"
   ]
  },
  {
   "cell_type": "code",
   "execution_count": null,
   "id": "8f7c8ea8-4082-4ad0-8751-3301adcf6538",
   "metadata": {},
   "outputs": [],
   "source": [
    "# Get Llama 3.2 to answer"
   ]
  }
 ],
 "metadata": {
  "kernelspec": {
   "display_name": "Python 3 (ipykernel)",
   "language": "python",
   "name": "python3"
  },
  "language_info": {
   "codemirror_mode": {
    "name": "ipython",
    "version": 3
   },
   "file_extension": ".py",
   "mimetype": "text/x-python",
   "name": "python",
   "nbconvert_exporter": "python",
   "pygments_lexer": "ipython3",
   "version": "3.11.11"
  }
 },
 "nbformat": 4,
 "nbformat_minor": 5
}
